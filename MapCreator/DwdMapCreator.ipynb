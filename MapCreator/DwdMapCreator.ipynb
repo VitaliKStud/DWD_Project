{
 "cells": [
  {
   "cell_type": "code",
   "execution_count": 3,
   "id": "8ebea163",
   "metadata": {
    "ExecuteTime": {
     "end_time": "2022-05-24T20:55:32.043635Z",
     "start_time": "2022-05-24T20:55:31.973635Z"
    },
    "pycharm": {
     "name": "#%%\n"
    },
    "scrolled": false
   },
   "outputs": [
    {
     "data": {
      "application/vnd.jupyter.widget-view+json": {
       "model_id": "5e3bd915bf344a319b2199c4e18b6fed",
       "version_major": 2,
       "version_minor": 0
      },
      "text/plain": [
       "Map(center=[51, 10], close_popup_on_click=False, controls=(ZoomControl(options=['position', 'zoom_in_text', 'z…"
      ]
     },
     "metadata": {},
     "output_type": "display_data"
    }
   ],
   "source": [
    "from DwdMap import DwdMap\n",
    "#choose between \"NearStations\" , \"Stations\" , \"ActivInDate\"\n",
    "x_coordinate_ = 51.4818\n",
    "y_coordinate_ = 7.2162\n",
    "local_domain_ = \"C:/Users/VID/Desktop/Betriebliche Praxis/\"\n",
    "\n",
    "DwdMap(\"NearStations\", x_coordinate_, y_coordinate_, local_domain_).create_map()\n",
    "\n",
    "#DwdMap(\"Stations\", x_coordinate_, y_coordinate_, local_domain_).create_map()\n",
    "\n",
    "#DwdMap(\"ActivInDate\", x_coordinate_, y_coordinate_, local_domain_).create_map()"
   ]
  },
  {
   "cell_type": "code",
   "execution_count": null,
   "id": "4e544227",
   "metadata": {
    "pycharm": {
     "name": "#%%\n"
    }
   },
   "outputs": [],
   "source": []
  }
 ],
 "metadata": {
  "kernelspec": {
   "display_name": "Python 3 (ipykernel)",
   "language": "python",
   "name": "python3"
  },
  "language_info": {
   "codemirror_mode": {
    "name": "ipython",
    "version": 3
   },
   "file_extension": ".py",
   "mimetype": "text/x-python",
   "name": "python",
   "nbconvert_exporter": "python",
   "pygments_lexer": "ipython3",
   "version": "3.10.2"
  },
  "varInspector": {
   "cols": {
    "lenName": 16,
    "lenType": 16,
    "lenVar": 40
   },
   "kernels_config": {
    "python": {
     "delete_cmd_postfix": "",
     "delete_cmd_prefix": "del ",
     "library": "var_list.py",
     "varRefreshCmd": "print(var_dic_list())"
    },
    "r": {
     "delete_cmd_postfix": ") ",
     "delete_cmd_prefix": "rm(",
     "library": "var_list.r",
     "varRefreshCmd": "cat(var_dic_list()) "
    }
   },
   "types_to_exclude": [
    "module",
    "function",
    "builtin_function_or_method",
    "instance",
    "_Feature"
   ],
   "window_display": false
  }
 },
 "nbformat": 4,
 "nbformat_minor": 5
}