{
 "cells": [
  {
   "cell_type": "code",
   "execution_count": 2,
   "id": "8ebea163",
   "metadata": {
    "ExecuteTime": {
     "end_time": "2022-06-03T09:44:04.241160Z",
     "start_time": "2022-06-03T09:44:04.183199Z"
    },
    "pycharm": {
     "name": "#%%\n"
    },
    "scrolled": false
   },
   "outputs": [
    {
     "data": {
      "application/vnd.jupyter.widget-view+json": {
       "model_id": "3b57333c65394059bf44b9c0244bdd83",
       "version_major": 2,
       "version_minor": 0
      },
      "text/plain": [
       "Map(center=[51, 10], close_popup_on_click=False, controls=(ZoomControl(options=['position', 'zoom_in_text', 'z…"
      ]
     },
     "metadata": {},
     "output_type": "display_data"
    }
   ],
   "source": [
    "from DwdMap import DwdMap\n",
    "\n",
    "DwdMap(\"NearStations\").create_map()\n",
    "# DwdMap(\"Stations\").create_map()\n",
    "# DwdMap(\"ActivInDate\").create_map()\n",
    "# choose between \"NearStations\" , \"Stations\" , \"ActivInDate\""
   ]
  },
  {
   "cell_type": "code",
   "execution_count": null,
   "id": "b63fb7cf",
   "metadata": {
    "pycharm": {
     "name": "#%%\n"
    }
   },
   "outputs": [],
   "source": []
  }
 ],
 "metadata": {
  "kernelspec": {
   "display_name": "Python 3 (ipykernel)",
   "language": "python",
   "name": "python3"
  },
  "language_info": {
   "codemirror_mode": {
    "name": "ipython",
    "version": 3
   },
   "file_extension": ".py",
   "mimetype": "text/x-python",
   "name": "python",
   "nbconvert_exporter": "python",
   "pygments_lexer": "ipython3",
   "version": "3.10.4"
  },
  "varInspector": {
   "cols": {
    "lenName": 16,
    "lenType": 16,
    "lenVar": 40
   },
   "kernels_config": {
    "python": {
     "delete_cmd_postfix": "",
     "delete_cmd_prefix": "del ",
     "library": "var_list.py",
     "varRefreshCmd": "print(var_dic_list())"
    },
    "r": {
     "delete_cmd_postfix": ") ",
     "delete_cmd_prefix": "rm(",
     "library": "var_list.r",
     "varRefreshCmd": "cat(var_dic_list()) "
    }
   },
   "types_to_exclude": [
    "module",
    "function",
    "builtin_function_or_method",
    "instance",
    "_Feature"
   ],
   "window_display": false
  }
 },
 "nbformat": 4,
 "nbformat_minor": 5
}