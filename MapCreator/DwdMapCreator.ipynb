{
 "cells": [
  {
   "cell_type": "code",
   "execution_count": 6,
   "id": "8ebea163",
   "metadata": {
    "ExecuteTime": {
     "end_time": "2022-08-11T18:23:40.781241Z",
     "start_time": "2022-08-11T18:23:36.812345Z"
    },
    "pycharm": {
     "name": "#%%\n"
    },
    "scrolled": false
   },
   "outputs": [
    {
     "data": {
      "application/vnd.jupyter.widget-view+json": {
       "model_id": "f4024264fef24eb4abb8411f453b3fbf",
       "version_major": 2,
       "version_minor": 0
      },
      "text/plain": [
       "Map(center=[51, 10], close_popup_on_click=False, controls=(ZoomControl(options=['position', 'zoom_in_text', 'z…"
      ]
     },
     "metadata": {},
     "output_type": "display_data"
    },
    {
     "data": {
      "application/vnd.jupyter.widget-view+json": {
       "model_id": "25e515bb9e504ba2b295344867fd700d",
       "version_major": 2,
       "version_minor": 0
      },
      "text/plain": [
       "Map(center=[51, 10], close_popup_on_click=False, controls=(ZoomControl(options=['position', 'zoom_in_text', 'z…"
      ]
     },
     "metadata": {},
     "output_type": "display_data"
    },
    {
     "data": {
      "application/vnd.jupyter.widget-view+json": {
       "model_id": "2a1e7686fc394ad68c47816b39b399cb",
       "version_major": 2,
       "version_minor": 0
      },
      "text/plain": [
       "Map(center=[51, 10], close_popup_on_click=False, controls=(ZoomControl(options=['position', 'zoom_in_text', 'z…"
      ]
     },
     "metadata": {},
     "output_type": "display_data"
    }
   ],
   "source": [
    "from DwdMap import DwdMap\n",
    "\n",
    "DwdMap(\"NearStations\").create_map()\n",
    "DwdMap(\"Stations\").create_map()\n",
    "DwdMap(\"ActivInDate\").create_map()\n",
    "# choose between \"NearStations\" , \"Stations\" , \"ActivInDate\""
   ]
  },
  {
   "cell_type": "code",
   "execution_count": null,
   "id": "b63fb7cf",
   "metadata": {
    "pycharm": {
     "name": "#%%\n"
    }
   },
   "outputs": [],
   "source": []
  }
 ],
 "metadata": {
  "kernelspec": {
   "display_name": "Python 3 (ipykernel)",
   "language": "python",
   "name": "python3"
  },
  "language_info": {
   "codemirror_mode": {
    "name": "ipython",
    "version": 3
   },
   "file_extension": ".py",
   "mimetype": "text/x-python",
   "name": "python",
   "nbconvert_exporter": "python",
   "pygments_lexer": "ipython3",
   "version": "3.9.7"
  },
  "varInspector": {
   "cols": {
    "lenName": 16,
    "lenType": 16,
    "lenVar": 40
   },
   "kernels_config": {
    "python": {
     "delete_cmd_postfix": "",
     "delete_cmd_prefix": "del ",
     "library": "var_list.py",
     "varRefreshCmd": "print(var_dic_list())"
    },
    "r": {
     "delete_cmd_postfix": ") ",
     "delete_cmd_prefix": "rm(",
     "library": "var_list.r",
     "varRefreshCmd": "cat(var_dic_list()) "
    }
   },
   "types_to_exclude": [
    "module",
    "function",
    "builtin_function_or_method",
    "instance",
    "_Feature"
   ],
   "window_display": false
  }
 },
 "nbformat": 4,
 "nbformat_minor": 5
}
